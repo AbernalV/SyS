{
  "nbformat": 4,
  "nbformat_minor": 0,
  "metadata": {
    "colab": {
      "provenance": [],
      "authorship_tag": "ABX9TyPzbQZBLbqiQITmzFkGour4",
      "include_colab_link": true
    },
    "kernelspec": {
      "name": "python3",
      "display_name": "Python 3"
    },
    "language_info": {
      "name": "python"
    }
  },
  "cells": [
    {
      "cell_type": "markdown",
      "metadata": {
        "id": "view-in-github",
        "colab_type": "text"
      },
      "source": [
        "<a href=\"https://colab.research.google.com/github/AbernalV/SyS/blob/main/Taller_3_AlejandroBV.ipynb\" target=\"_parent\"><img src=\"https://colab.research.google.com/assets/colab-badge.svg\" alt=\"Open In Colab\"/></a>"
      ]
    },
    {
      "cell_type": "markdown",
      "source": [
        "#1.3 Demuestre las siguientes propiedades (sin utilizar tablas de propiedades)"
      ],
      "metadata": {
        "id": "cZ4uGLzyMEMr"
      }
    },
    {
      "cell_type": "markdown",
      "source": [
        "1. **$ \\mathcal{L} \\{ x(t - t_0) \\} = e^{-s t_0} X(s) $**:\n",
        "\n",
        "$\n",
        " = \\int_0^{\\infty} x(t - t_0) e^{-st} dt\n",
        "$\n",
        "\n",
        "Cambio de variable siendo $t'=t-t_0$\n",
        "\n",
        "$\n",
        " = e^{-s t_0} \\int_0^{\\infty} x(t') e^{-s t'} dt' = e^{-st_0} X(s)\n",
        "$\n",
        "\n"
      ],
      "metadata": {
        "id": "nZNJFoCeMxdi"
      }
    },
    {
      "cell_type": "markdown",
      "source": [
        "2. **$ \\mathcal{L} \\{ x(at) \\} = \\frac{1}{|a|} X\\left(\\frac{s}{a}\\right) $**\n",
        "\n",
        "$\n",
        "= \\int_0^{\\infty} x(at) e^{-st} dt\n",
        "$\n",
        "\n",
        "Cambio de variable siendo $u=at$\n",
        "\n",
        "$\n",
        "= \\frac{1}{|a|}\\int_0^{\\infty} x(u) e^{-s \\frac{u}{a}} du= \\frac{1}{|a|} X\\left(\\frac{s}{a}\\right)\n",
        "$\n",
        "\n",
        "\n",
        "\n"
      ],
      "metadata": {
        "id": "ifnvencbNmfL"
      }
    },
    {
      "cell_type": "markdown",
      "source": [
        "3. **$ \\mathcal{L} \\left\\{ \\frac{dx(t)}{dt} \\right\\} = s X(s) $**\n",
        "$\n",
        "=\\int_0^{\\infty} \\frac{dx(t)}{dt} e^{-st} dt\n",
        "$\n",
        "$\n",
        "= \\left[ x(t) e^{-st} \\right]_0^{\\infty} + s \\int_0^{\\infty} x(t) e^{-st} dt = s X(s)\n",
        "$"
      ],
      "metadata": {
        "id": "xLKycx8WOq_p"
      }
    },
    {
      "cell_type": "markdown",
      "source": [
        "4. **$ \\mathcal{L} \\{ x(t) * y(t) \\} = X(s) Y(s) $**:\n",
        "$\n",
        "(x * y)(t) = \\int_0^t x(\\tau) y(t - \\tau) d\\tau\n",
        "$\n",
        "$\n",
        "= \\int_0^{\\infty} \\left( \\int_0^t x(\\tau) y(t - \\tau) d\\tau \\right) e^{-st} dt\n",
        "$\n",
        "$\n",
        "= X(s) Y(s)\n",
        "$\n"
      ],
      "metadata": {
        "id": "6CCWttLXPssB"
      }
    },
    {
      "cell_type": "markdown",
      "source": [
        "##1.4 Ecuentre la transformada de Laplace, dibuje el esquema de polos y ceros, y la región de convergencia (ROC):"
      ],
      "metadata": {
        "id": "tr_h1pcKROVS"
      }
    },
    {
      "cell_type": "markdown",
      "source": [
        "1. **Señal $ e^{-2t}u(t) + e^{-3t}u(t) $**:\n",
        "$\n",
        "\\mathcal{L} \\{ e^{-2t}u(t) \\} = \\frac{1}{s + 2}, \\quad \\mathcal{L} \\{ e^{-3t}u(t) \\} = \\frac{1}{s + 3}\n",
        "$\n",
        "\n",
        "Resultado:\n",
        "$\n",
        "X(s) = \\frac{1}{s + 2} + \\frac{1}{s + 3}\n",
        "$\n",
        "\n",
        "Polos: $ s = -2, s = -3 $\n",
        "\n",
        "Ceros: No hay ceros.\n",
        "\n",
        "ROC: $ \\Re(s) > -2 $\n"
      ],
      "metadata": {
        "id": "rBRdVVgWRgoq"
      }
    },
    {
      "cell_type": "markdown",
      "source": [
        "2. **Señal $ e^{2t}u(t) + e^{-3t}u(-t) $**\n",
        "$\n",
        "\\mathcal{L} \\{ e^{2t}u(t) \\} = \\frac{1}{s - 2}, \\quad \\mathcal{L} \\{ e^{-3t}u(-t) \\} = \\frac{-1}{s + 3}\n",
        "$\n",
        "\n",
        "Resultado:\n",
        "$\n",
        "X(s) = \\frac{1}{s - 2} - \\frac{1}{s + 3}\n",
        "$\n",
        "\n",
        "Polos: $ s = 2, s = -3 $\n",
        "\n",
        "Ceros: No hay ceros.\n",
        "\n",
        "ROC: $ -3 < \\Re(s) < 2 $"
      ],
      "metadata": {
        "id": "Bl1yjqGYSV7q"
      }
    },
    {
      "cell_type": "markdown",
      "source": [
        "3. **Señal $ e^{-3t}u(-|t|) $**\n",
        "\n",
        "Propiedad Funcion Exponencial con Escalón unitario\n",
        "\n",
        "$\n",
        "X(s) = \\frac{-2}{s + 3}\n",
        "$\n",
        "\n",
        "Polos: $ s = -3 $\n",
        "\n",
        "Ceros: No hay ceros.\n",
        "\n",
        "ROC: $ \\Re(s) < -3 $"
      ],
      "metadata": {
        "id": "IVi-8026Ssqi"
      }
    },
    {
      "cell_type": "markdown",
      "source": [
        "4. **Señal $ e^{-2t} [u(t) - u(t - 5)] $**\n",
        "\n",
        "Esta es una señal truncada entre $ t = 0 $ y $ t = 5 $.\n",
        "\n",
        "$\n",
        "X(s) = \\frac{1 - e^{-5(s + 2)}}{s + 2}\n",
        "$\n",
        "\n",
        "Polos: $ s = -2 $\n",
        "\n",
        "Ceros: Dependen del factor exponencial.\n",
        "\n",
        "ROC: $ \\Re(s) > -2 $\n"
      ],
      "metadata": {
        "id": "hVGjgjahTwxK"
      }
    },
    {
      "cell_type": "markdown",
      "source": [
        "# 1.5 Consultar y realizar los ejercicios del cuaderno Transformada inversa de Laplace\n"
      ],
      "metadata": {
        "id": "xvUMTaskUGEB"
      }
    },
    {
      "cell_type": "markdown",
      "source": [
        "Obtener la transformada inversa de Laplace de\n",
        "$$  X(s)= \\left\\{ \\frac{1}{(s+1)(s+2)^2} \\right\\} $$\n",
        "$\n",
        " \\mathcal{L}^{-1} \\left\\{\\frac{1}{(s+1)(s+2)^2}\\right\\}\n",
        "$\n",
        "\n",
        "Fracciones Parciales:\n",
        "\n",
        "$\n",
        "=\\frac{1}{(s+1)} - \\frac{1}{(s+2)} - \\frac{1}{(s+2)^2}\n",
        "$\n",
        "\n",
        "$\n",
        "\\mathcal{L}^{-1} \\left\\{\\frac{1}{(s+1)} - \\frac{1}{(s+2)} - \\frac{1}{(s+2)^2}\\right\\}=\\mathcal{L}^{-1}\\left\\{\\frac{1}{(s+1)} \\right\\}-\\mathcal{L}^{-1}\\left\\{\\frac{1}{(s+2)} \\right\\}-\\mathcal{L}^{-1}\\left\\{\\frac{1}{(s+2)^2} \\right\\}\n",
        "$\n",
        "\n",
        "Se calcula la transformada inversa de cada una:\n",
        "\n",
        "$\n",
        "\\mathcal{L}^{-1}\\left\\{\\frac{1}{(s+1)} \\right\\}=e^{-t}; \\mathcal{L}^{-1}\\left\\{\\frac{1}{(s+2)} \\right\\}=e^{-2t};\\mathcal{L}^{-1}\\left\\{\\frac{1}{(s+2)^2} \\right\\}=e^{-2t}*t\n",
        "$\n",
        "\n",
        "Respuesta:\n",
        "\n",
        "$\n",
        "e^{-t}-e^{-2t}-e^{-2t}*t\n",
        "$\n"
      ],
      "metadata": {
        "id": "50JNzYs0XY_Z"
      }
    },
    {
      "cell_type": "code",
      "source": [
        "import sympy as sym\n",
        "%matplotlib inline\n",
        "\n",
        "s = sym.symbols('s', complex=True)\n",
        "t = sym.symbols('t', real=True)\n",
        "\n",
        "X = (1/((s+1)*(s+2)**2))\n",
        "X"
      ],
      "metadata": {
        "colab": {
          "base_uri": "https://localhost:8080/",
          "height": 58
        },
        "id": "oLPx2x-gOo_y",
        "outputId": "f1ee064a-cbe0-46d3-8d24-797d4ae33d4f"
      },
      "execution_count": 1,
      "outputs": [
        {
          "output_type": "execute_result",
          "data": {
            "text/plain": [
              "1/((s + 1)*(s + 2)**2)"
            ],
            "text/latex": "$\\displaystyle \\frac{1}{\\left(s + 1\\right) \\left(s + 2\\right)^{2}}$"
          },
          "metadata": {},
          "execution_count": 1
        }
      ]
    },
    {
      "cell_type": "code",
      "source": [
        "polos = sym.roots(sym.denom(X))\n",
        "print(polos)\n",
        "\n",
        "x1 = sym.inverse_laplace_transform(X, s, t)\n",
        "x1"
      ],
      "metadata": {
        "colab": {
          "base_uri": "https://localhost:8080/",
          "height": 56
        },
        "id": "KAztu7gMcZxZ",
        "outputId": "ea36900b-10a5-486f-d092-2761b4160110"
      },
      "execution_count": 3,
      "outputs": [
        {
          "output_type": "stream",
          "name": "stdout",
          "text": [
            "{-1: 1, -2: 2}\n"
          ]
        },
        {
          "output_type": "execute_result",
          "data": {
            "text/plain": [
              "-t*exp(-2*t)*Heaviside(t) + exp(-t)*Heaviside(t) - exp(-2*t)*Heaviside(t)"
            ],
            "text/latex": "$\\displaystyle - t e^{- 2 t} \\theta\\left(t\\right) + e^{- t} \\theta\\left(t\\right) - e^{- 2 t} \\theta\\left(t\\right)$"
          },
          "metadata": {},
          "execution_count": 3
        }
      ]
    },
    {
      "cell_type": "code",
      "source": [
        "sym.plot(x1, (t, 0, 10), xlabel = '$t$', ylabel = '$x(t)$');"
      ],
      "metadata": {
        "colab": {
          "base_uri": "https://localhost:8080/",
          "height": 484
        },
        "id": "c7FlnuYPchTK",
        "outputId": "9b571592-6255-49c8-fe21-09c288f7f819"
      },
      "execution_count": 4,
      "outputs": [
        {
          "output_type": "display_data",
          "data": {
            "text/plain": [
              "<Figure size 640x480 with 1 Axes>"
            ],
            "image/png": "[encoded data removed]"
          },
          "metadata": {}
        }
      ]
    },
    {
      "cell_type": "markdown",
      "source": [
        "#1.6 Consultar y realizar los ejercicios del cuaderno Autofunciones y SLITs"
      ],
      "metadata": {
        "id": "Rk68JJCqcl4S"
      }
    },
    {
      "cell_type": "markdown",
      "source": [
        "# 1. Relación entre $\\lambda$ y la salida obtenida al resolver la EDO\n",
        "\n",
        "Dado que la entrada del sistema es $x(t) = e^{st}$, podemos interpretar que el parámetro $\\lambda = s$. El término $s$ en la entrada representa la frecuencia compleja de la señal, y por lo tanto, está directamente relacionado con la respuesta del sistema.\n",
        "\n",
        "Al resolver la ecuación diferencial ordinaria:\n",
        "\n",
        "$$ a_0 y(t) + a_1 \\frac{d y(t)}{dt} + a_2 \\frac{d^2 y(t)}{dt^2} = e^{st} $$\n",
        "\n",
        "La solución general, en el dominio de Laplace, es:\n",
        "\n",
        "$$ Y(s) = \\frac{X(s)}{a_0 + a_1 s + a_2 s^2} $$\n",
        "\n",
        "Donde $X(s)$ es la transformada de la entrada $x(t)$, es decir, $X(s) = \\frac{1}{s - \\lambda}$.\n",
        "\n",
        "Por lo tanto, la salida en el dominio de Laplace es:\n",
        "\n",
        "$$ Y(s) = \\frac{1}{(s - \\lambda)(a_0 + a_1 s + a_2 s^2)} $$\n",
        "\n",
        "Al aplicar la transformada inversa de Laplace, obtenemos la respuesta temporal del sistema, la cual depende de $\\lambda$, que está relacionado con la frecuencia de la señal de entrada.\n",
        "\n",
        "# 2. Generalización a una EDO de orden arbitrario\n",
        "\n",
        "El mismo procedimiento se puede generalizar para una EDO de orden arbitrario:\n",
        "\n",
        "$$ a_0 y(t) + a_1 \\frac{d y(t)}{dt} + a_2 \\frac{d^2 y(t)}{dt^2} + \\cdots + a_n \\frac{d^n y(t)}{dt^n} = e^{st} $$\n",
        "\n",
        "La solución general para este tipo de ecuaciones será:\n",
        "\n",
        "$$ Y(s) = \\frac{1}{(s - \\lambda)(a_0 + a_1 s + a_2 s^2 + \\cdots + a_n s^n)} $$\n",
        "\n",
        "Donde la relación entre $\\lambda$ y la salida del sistema sigue estando dada por la frecuencia compleja $s$ de la entrada exponencial $e^{st}$.\n",
        "\n",
        "Este método es aplicable para EDOs de cualquier orden, siempre que se resuelva en el dominio de Laplace.\n"
      ],
      "metadata": {
        "id": "GYNcHejhc4aZ"
      }
    },
    {
      "cell_type": "markdown",
      "source": [
        "**1.7 Encuentre la función de transferencia en lazo abierto para un circuito RLC serie (entrada tensión de alimentación - salida tensión en el capacitor) y un circuito RCL en paralelo (entrada corriente de alimentación - salida corriente en el inductor). Nota: tenga en cuenta las condiciones iniciales del sistema según lo explicado en el material de apoyo Circuito RLC y Análisis de redes eléctricas.**"
      ],
      "metadata": {
        "id": "dMYSYChydPua"
      }
    },
    {
      "cell_type": "code",
      "source": [
        "import numpy as np\n",
        "import matplotlib.pyplot as plt\n",
        "from scipy import signal\n",
        "\n",
        "# Definición de parámetros para los circuitos\n",
        "R = 1.0    # Resistencia en ohmios\n",
        "L = 1.0    # Inductancia en henrios\n",
        "C = 1.0    # Capacitancia en faradios\n",
        "\n",
        "# Función de transferencia para el circuito RLC serie\n",
        "num_RLC_serie = [1]                # Numerador: 1\n",
        "den_RLC_serie = [L*C, R*C, 1]      # Denominador: s^2*LC + s*RC + 1\n",
        "sys_RLC_serie = signal.TransferFunction(num_RLC_serie, den_RLC_serie)\n",
        "\n",
        "# Función de transferencia para el circuito RCL paralelo\n",
        "num_RCL_paralelo = [1]             # Numerador: 1\n",
        "den_RCL_paralelo = [L/R, 1, L*C]   # Denominador: s*L/R + 1 + s^2*LC\n",
        "sys_RCL_paralelo = signal.TransferFunction(num_RCL_paralelo, den_RCL_paralelo)\n",
        "\n",
        "# Frecuencias para análisis\n",
        "frequencias = np.logspace(-1, 2, 500)  # de 0.1 a 100 rad/s\n",
        "\n",
        "# Respuesta en frecuencia\n",
        "w, mag_RLC_serie, phase_RLC_serie = signal.bode(sys_RLC_serie, w=frequencias)\n",
        "w, mag_RCL_paralelo, phase_RCL_paralelo = signal.bode(sys_RCL_paralelo, w=frequencias)\n",
        "\n",
        "# Gráficos de respuesta en frecuencia\n",
        "plt.figure(figsize=(12, 8))\n",
        "\n",
        "# Magnitud del circuito RLC serie\n",
        "plt.subplot(2, 2, 1)\n",
        "plt.semilogx(w, mag_RLC_serie)\n",
        "plt.title('Respuesta en frecuencia - Circuito RLC Serie')\n",
        "plt.xlabel('Frecuencia [rad/s]')\n",
        "plt.ylabel('Magnitud [dB]')\n",
        "plt.grid(True)\n",
        "\n",
        "# Fase del circuito RLC serie\n",
        "plt.subplot(2, 2, 2)\n",
        "plt.semilogx(w, phase_RLC_serie)\n",
        "plt.title('Respuesta en frecuencia - Circuito RLC Serie')\n",
        "plt.xlabel('Frecuencia [rad/s]')\n",
        "plt.ylabel('Fase [grados]')\n",
        "plt.grid(True)\n",
        "\n",
        "# Magnitud del circuito RCL paralelo\n",
        "plt.subplot(2, 2, 3)\n",
        "plt.semilogx(w, mag_RCL_paralelo)\n",
        "plt.title('Respuesta en frecuencia - Circuito RCL Paralelo')\n",
        "plt.xlabel('Frecuencia [rad/s]')\n",
        "plt.ylabel('Magnitud [dB]')\n",
        "plt.grid(True)\n",
        "\n",
        "# Fase del circuito RCL paralelo\n",
        "plt.subplot(2, 2, 4)\n",
        "plt.semilogx(w, phase_RCL_paralelo)\n",
        "plt.title('Respuesta en frecuencia - Circuito RCL Paralelo')\n",
        "plt.xlabel('Frecuencia [rad/s]')\n",
        "plt.ylabel('Fase [grados]')\n",
        "plt.grid(True)\n",
        "\n",
        "plt.tight_layout()\n",
        "plt.show()"
      ],
      "metadata": {
        "id": "rGlGcIsOdQ2p"
      },
      "execution_count": null,
      "outputs": []
    },
    {
      "cell_type": "markdown",
      "source": [
        "**1.8 Para las funciones de transferencia en lazo abierto encontradas en el punto anterior, encuentre la expresión de la salida en el tiempo para una configuración en lazo cerrado del sis-tema, en función de *R, L* y *C,* para las siguientes entradas:\n",
        "*i) impulso, ii) escalón unitario, y iv) rampa*. Compruebe los resultados en simulación sobre Python (utilizando sympy) y grafique la señal de salida para cada caso. Ver cuaderno de ayuda Fracciones parciales Circuito RLC.**"
      ],
      "metadata": {
        "id": "PXtsn8iidVH5"
      }
    },
    {
      "cell_type": "code",
      "source": [
        "import numpy as np\n",
        "import matplotlib.pyplot as plt\n",
        "from sympy import symbols, Function, exp, Heaviside, laplace_transform, inverse_laplace_transform\n",
        "\n",
        "# Definir variables\n",
        "t, s = symbols('t s')\n",
        "R, L, C = symbols('R L C')\n",
        "\n",
        "# Función de transferencia en lazo cerrado para el circuito RLC serie\n",
        "H_closed_RLC_serie = 1 / (s**2 * L * C + s * R * C + 2)\n",
        "\n",
        "# Función de transferencia en lazo cerrado para el circuito RCL paralelo\n",
        "H_closed_RCL_paralelo = 1 / (s * L / R + 2 + s**2 * L * C)\n",
        "\n",
        "# Definir las entradas\n",
        "X_impulso = 1\n",
        "X_escalon = 1 / s\n",
        "X_rampa = 1 / s**2\n",
        "\n",
        "# Calcular respuestas en el tiempo para cada entrada y circuito\n",
        "Y_impulso_RLC_serie = inverse_laplace_transform(H_closed_RLC_serie * X_impulso, s, t)\n",
        "Y_impulso_RCL_paralelo = inverse_laplace_transform(H_closed_RCL_paralelo * X_impulso, s, t)\n",
        "\n",
        "Y_escalon_RLC_serie = inverse_laplace_transform(H_closed_RLC_serie * X_escalon, s, t)\n",
        "Y_escalon_RCL_paralelo = inverse_laplace_transform(H_closed_RCL_paralelo * X_escalon, s, t)\n",
        "\n",
        "Y_rampa_RLC_serie = inverse_laplace_transform(H_closed_RLC_serie * X_rampa, s, t)\n",
        "Y_rampa_RCL_paralelo = inverse_laplace_transform(H_closed_RCL_paralelo * X_rampa, s, t)\n",
        "\n",
        "# Evaluar respuestas en el tiempo para un rango de t\n",
        "t_vals = np.linspace(0, 10, 500)\n",
        "\n",
        "# Define numerical values for R, L, and C\n",
        "R_val = 1.0\n",
        "L_val = 1.0\n",
        "C_val = 1.0\n",
        "\n",
        "y_impulso_RLC_serie = [Y_impulso_RLC_serie.evalf(subs={t: val, R: R_val, L: L_val, C: C_val}) for val in t_vals]\n",
        "y_impulso_RCL_paralelo = [Y_impulso_RCL_paralelo.evalf(subs={t: val, R: R_val, L: L_val, C: C_val}) for val in t_vals]\n",
        "y_escalon_RLC_serie = [Y_escalon_RLC_serie.evalf(subs={t: val, R: R_val, L: L_val, C: C_val}) for val in t_vals]\n",
        "y_escalon_RCL_paralelo = [Y_escalon_RCL_paralelo.evalf(subs={t: val, R: R_val, L: L_val, C: C_val}) for val in t_vals]\n",
        "y_rampa_RLC_serie = [Y_rampa_RLC_serie.evalf(subs={t: val, R: R_val, L: L_val, C: C_val}) for val in t_vals]\n",
        "y_rampa_RCL_paralelo = [Y_rampa_RCL_paralelo.evalf(subs={t: val, R: R_val, L: L_val, C: C_val}) for val in t_vals]\n",
        "\n",
        "# Graficar respuestas en el tiempo\n",
        "plt.figure(figsize=(14, 10))\n",
        "\n",
        "\n",
        "# Impulso\n",
        "plt.subplot(3, 2, 1)\n",
        "plt.plot(t_vals, y_impulso_RLC_serie, label='RLC Serie', color='blue')\n",
        "plt.plot(t_vals, y_impulso_RCL_paralelo, label='RCL Paralelo', color='red', linestyle='--')\n",
        "plt.title('Respuesta al Impulso')\n",
        "plt.xlabel('Tiempo [s]')\n",
        "plt.ylabel('Amplitud')\n",
        "plt.legend()\n",
        "plt.grid(True)\n",
        "\n",
        "# Escalón unitario\n",
        "plt.subplot(3, 2, 2)\n",
        "plt.plot(t_vals, y_escalon_RLC_serie, label='RLC Serie', color='blue')\n",
        "plt.plot(t_vals, y_escalon_RCL_paralelo, label='RCL Paralelo', color='red', linestyle='--')\n",
        "plt.title('Respuesta al Escalón Unitario')\n",
        "plt.xlabel('Tiempo [s]')\n",
        "plt.ylabel('Amplitud')\n",
        "plt.legend()\n",
        "plt.grid(True)\n",
        "\n",
        "# Rampa\n",
        "plt.subplot(3, 2, 3)\n",
        "plt.plot(t_vals, y_rampa_RLC_serie, label='RLC Serie', color='blue')\n",
        "plt.plot(t_vals, y_rampa_RCL_paralelo, label='RCL Paralelo', color='red', linestyle='--')\n",
        "plt.title('Respuesta a la Rampa')\n",
        "plt.xlabel('Tiempo [s]')\n",
        "plt.ylabel('Amplitud')\n",
        "plt.legend()\n",
        "plt.grid(True)\n",
        "\n",
        "plt.tight_layout()\n",
        "plt.show()\n"
      ],
      "metadata": {
        "id": "sfC_nLzZdW_h"
      },
      "execution_count": null,
      "outputs": []
    },
    {
      "cell_type": "markdown",
      "source": [
        "1.9 Consulte en qué consiste un sistema subamortiguado, sobre-amortiguado, y de amortiguamiento crítico. Genere simulaciones para ejemplificar cada uno de los casos con los sistemas R,L ,C serie y paralelo estudiados. Nota: asuma condiciones iniciales cero."
      ],
      "metadata": {
        "id": "JCktJhbCdZIh"
      }
    },
    {
      "cell_type": "markdown",
      "source": [
        "Sistema Subamortiguado:\n",
        "\n",
        "Descripción: Un sistema es subamortiguado si tiene un amortiguamiento insuficiente. La respuesta muestra oscilaciones antes de alcanzar el estado estable. La razón de las oscilaciones es que los polos del sistema están en el semiplano izquierdo, pero no están en la parte real (es decir, tienen parte imaginaria no nula).\n",
        "\n",
        "Condiciones: La relación entre el coeficiente de amortiguamiento  (ζ)  y la frecuencia natural  (ωn​)  es tal que  0<ζ<1.\n",
        "\n",
        "Sistema Sobreamortiguado:\n",
        "\n",
        "Descripción: Un sistema es sobreamortiguado si el amortiguamiento es excesivo. La respuesta vuelve al estado estable sin oscilaciones, pero más lentamente que en el caso de amortiguamiento crítico. En este caso, los polos están en el semiplano izquierdo, y ambos tienen parte real negativa.\n",
        "\n",
        "Condiciones: La relación entre el coeficiente de amortiguamiento  (ζ)  y la frecuencia natural  (ωn​)  es tal que  ζ>1.\n",
        "\n",
        "Sistema de Amortiguamiento Crítico:\n",
        "\n",
        "Descripción: Un sistema tiene amortiguamiento crítico cuando el amortiguamiento es justo suficiente para evitar las oscilaciones, pero no tan alto como para hacer que la respuesta sea excesivamente lenta. La respuesta es la más rápida posible sin oscilaciones.\n",
        "\n",
        "Condiciones: La relación entre el coeficiente de amortiguamiento  (ζ)  y la frecuencia natural  (ωn)  es tal que  ζ=1."
      ],
      "metadata": {
        "id": "eun_kPlydclZ"
      }
    },
    {
      "cell_type": "code",
      "source": [
        "import numpy as np\n",
        "import matplotlib.pyplot as plt\n",
        "from scipy import signal\n",
        "\n",
        "# Definir parámetros del circuito\n",
        "R = 1.0    # Resistencia en ohmios\n",
        "L = 1.0    # Inductancia en henrios\n",
        "C = 1.0    # Capacitancia en faradios\n",
        "\n",
        "# Cálculo de parámetros de amortiguamiento\n",
        "omega_n = 1 / np.sqrt(L * C)  # Frecuencia natural\n",
        "zeta_subamortiguado = 0.5  # Coeficiente de amortiguamiento subamortiguado\n",
        "zeta_critico = 1.0  # Coeficiente de amortiguamiento crítico\n",
        "zeta_sobreamortiguado = 1.5  # Coeficiente de amortiguamiento sobreamortiguado\n",
        "\n",
        "# Función de transferencia para circuito RLC serie\n",
        "def tf_RLC_serie(zeta):\n",
        "    num = [1]\n",
        "    den = [L * C, R * C, 1]\n",
        "    sys = signal.TransferFunction(num, den)\n",
        "    return sys\n",
        "\n",
        "# Función de transferencia para circuito RCL paralelo\n",
        "def tf_RCL_paralelo(zeta):\n",
        "    num = [1]\n",
        "    den = [L/R + zeta * omega_n, 1, L * C]\n",
        "    sys = signal.TransferFunction(num, den)\n",
        "    return sys\n",
        "\n",
        "# Tiempo de simulación\n",
        "t = np.linspace(0, 10, 500)\n",
        "\n",
        "# Respuestas en el tiempo para el circuito RLC serie\n",
        "sys_serie_subamortiguado = tf_RLC_serie(zeta_subamortiguado)\n",
        "sys_serie_critico = tf_RLC_serie(zeta_critico)\n",
        "sys_serie_sobreamortiguado = tf_RLC_serie(zeta_sobreamortiguado)\n",
        "\n",
        "#The signal.step function returns a tuple of two values when the system is continuous\n",
        "t, y_serie_subamortiguado = signal.step(sys_serie_subamortiguado, T=t)\n",
        "t, y_serie_critico = signal.step(sys_serie_critico, T=t)\n",
        "t, y_serie_sobreamortiguado = signal.step(sys_serie_sobreamortiguado, T=t)\n",
        "\n",
        "# Respuestas en el tiempo para el circuito RCL paralelo\n",
        "sys_paralelo_subamortiguado = tf_RCL_paralelo(zeta_subamortiguado)\n",
        "sys_paralelo_critico = tf_RCL_paralelo(zeta_critico)\n",
        "sys_paralelo_sobreamortiguado = tf_RCL_paralelo(zeta_sobreamortiguado)\n",
        "\n",
        "t, y_paralelo_subamortiguado = signal.step(sys_paralelo_subamortiguado, T=t)\n",
        "t, y_paralelo_critico = signal.step(sys_paralelo_critico, T=t)\n",
        "t, y_paralelo_sobreamortiguado = signal.step(sys_paralelo_sobreamortiguado, T=t)\n",
        "\n",
        "# Graficar respuestas en el tiempo\n",
        "plt.figure(figsize=(14, 12))\n",
        "\n",
        "\n",
        "# Respuesta al escalón - Circuito RLC Serie\n",
        "plt.subplot(3, 2, 1)\n",
        "plt.plot(t, y_serie_subamortiguado, label='Subamortiguado', color='blue')\n",
        "plt.plot(t, y_serie_critico, label='Crítico', color='green', linestyle='--')\n",
        "plt.plot(t, y_serie_sobreamortiguado, label='Sobreamortiguado', color='red', linestyle='-.')\n",
        "plt.title('Respuesta al Escalón - Circuito RLC Serie')\n",
        "plt.xlabel('Tiempo [s]')\n",
        "plt.ylabel('Amplitud')\n",
        "plt.legend()\n",
        "plt.grid(True)\n",
        "\n",
        "# Respuesta al escalón - Circuito RCL Paralelo\n",
        "plt.subplot(3, 2, 2)\n",
        "plt.plot(t, y_paralelo_subamortiguado, label='Subamortiguado', color='blue')\n",
        "plt.plot(t, y_paralelo_critico, label='Crítico', color='green', linestyle='--')\n",
        "plt.plot(t, y_paralelo_sobreamortiguado, label='Sobreamortiguado', color='red', linestyle='-.')\n",
        "plt.title('Respuesta al Escalón - Circuito RCL Paralelo')\n",
        "plt.xlabel('Tiempo [s]')\n",
        "plt.ylabel('Amplitud')\n",
        "plt.legend()\n",
        "plt.grid(True)\n",
        "\n",
        "plt.tight_layout()\n",
        "plt.show()\n"
      ],
      "metadata": {
        "id": "7keP9Uv5dbzZ"
      },
      "execution_count": null,
      "outputs": []
    },
    {
      "cell_type": "markdown",
      "source": [
        "1.10 Para los sitemas del punto 1.9, encuentre las expresiones para el factor de amortiguamiento §, la frecuencia natural no amortiguada un, y la frecuencia natural amortiguada wa en función de R, L, y C. Nota: asuma condiciones iniciales cero."
      ],
      "metadata": {
        "id": "H3E40P-jdk6J"
      }
    },
    {
      "cell_type": "code",
      "source": [
        "import numpy as np\n",
        "\n",
        "# Definir parámetros\n",
        "R = 1.0  # Resistencia en ohmios\n",
        "L = 1.0  # Inductancia en henrios\n",
        "C = 1.0  # Capacitancia en faradios\n",
        "\n",
        "# Calcular frecuencia natural no amortiguada\n",
        "omega_n = 1 / np.sqrt(L * C)\n",
        "\n",
        "# Calcular factor de amortiguamiento\n",
        "zeta = R / (2 * np.sqrt(L / C))\n",
        "\n",
        "# Calcular frecuencia natural amortiguada\n",
        "omega_a = omega_n * np.sqrt(1 - zeta**2)\n",
        "\n",
        "print(f\"Frecuencia Natural No Amortiguada (omega_n): {omega_n:.2f} rad/s\")\n",
        "print(f\"Factor de Amortiguamiento (zeta): {zeta:.2f}\")\n",
        "print(f\"Frecuencia Natural Amortiguada (omega_a): {omega_a:.2f} rad/s\")\n"
      ],
      "metadata": {
        "id": "vxCEwcHwdmYB"
      },
      "execution_count": null,
      "outputs": []
    }
  ]
}